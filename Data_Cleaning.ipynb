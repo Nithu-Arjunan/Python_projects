{
  "nbformat": 4,
  "nbformat_minor": 0,
  "metadata": {
    "colab": {
      "provenance": [],
      "authorship_tag": "ABX9TyNd6fRTa7w6kDgoUvU/0iYn",
      "include_colab_link": true
    },
    "kernelspec": {
      "name": "python3",
      "display_name": "Python 3"
    },
    "language_info": {
      "name": "python"
    }
  },
  "cells": [
    {
      "cell_type": "markdown",
      "metadata": {
        "id": "view-in-github",
        "colab_type": "text"
      },
      "source": [
        "<a href=\"https://colab.research.google.com/github/Nithu-Arjunan/Python_projects/blob/master/Data_Cleaning.ipynb\" target=\"_parent\"><img src=\"https://colab.research.google.com/assets/colab-badge.svg\" alt=\"Open In Colab\"/></a>"
      ]
    },
    {
      "cell_type": "code",
      "execution_count": null,
      "metadata": {
        "id": "E6mpuFRtGR_x"
      },
      "outputs": [],
      "source": [
        "import pandas as pd\n",
        "import numpy as np\n",
        "import logging\n",
        "\n",
        "# Setup logging\n",
        "logging.basicConfig(\n",
        "    filename='data_cleaning.log',\n",
        "    level=logging.INFO,\n",
        "    format='%(asctime)s - %(levelname)s - %(message)s'\n",
        ")\n",
        "\n"
      ]
    },
    {
      "cell_type": "code",
      "source": [
        "def data_cleaning (raw_data) :\n",
        "\n",
        "  \"\"\"\n",
        "    Cleans and validates the raw dataset.\n",
        "    - Logs basic data insights\n",
        "    - Reports and handles missing values\n",
        "    - Converts non-numeric columns to numeric where possible\n",
        "    \"\"\"\n",
        "\n",
        "\n",
        "  # Analyzing the data\n",
        "\n",
        "  logging.info(f\"Data shape: {raw_data.shape}\")\n",
        "  logging.info(f\"Data columns: {raw_data.columns.tolist()}\")\n",
        "\n",
        "  logging.info(\"Started data validation and cleaning\")\n",
        "\n",
        "  # Report missing values\n",
        "  missing_values = raw_data.isnull().sum()\n",
        "  logging.info(f\"Missing values per column : {missing_values}\")\n",
        "  total_missing = missing_values.sum()\n",
        "\n",
        "  if total_missing > 0:\n",
        "        logging.warning(f\"Total missing values found: {total_missing}\")\n",
        "  else:\n",
        "        logging.info(\"No missing values found.\")\n",
        "\n",
        "  # Optional : Drop missing values if needed\n",
        "  cleaned_data = raw_data.dropna()\n",
        "\n",
        "  # Validate numeric columns\n",
        "  columns = cleaned_data.columns\n",
        "  for col in columns:\n",
        "            if not pd.api.types.is_numeric_dtype(cleaned_data[col]):\n",
        "              cleaned_data[col] = pd.to_numeric(cleaned_data[col], errors='coerce')\n",
        "              if cleaned_data[col].isnull().any():\n",
        "                logging.warning(f\"Column '{col}' contains non-numeric values.\")\n",
        "\n",
        "  # Final check after cleaning\n",
        "  cleaned_missing = cleaned_data.isnull().sum().sum()\n",
        "  if cleaned_missing == 0:\n",
        "      logging.info(\"Data cleaning completed successfully.\")\n",
        "  else:\n",
        "      logging.warning(\"Data cleaning did not complete successfully.\")\n",
        "\n",
        "  return cleaned_data"
      ],
      "metadata": {
        "id": "x36mF9Kr8EyQ"
      },
      "execution_count": null,
      "outputs": []
    },
    {
      "cell_type": "code",
      "source": [
        "#  Loading the data\n",
        "\n",
        "raw_data = pd.read_csv(\"filename\")\n",
        "\n",
        "# Function calling\n",
        "\n",
        "cleaned_data = data_cleaning (raw_data)\n"
      ],
      "metadata": {
        "id": "5-tdrrVYA5Yc"
      },
      "execution_count": null,
      "outputs": []
    }
  ]
}